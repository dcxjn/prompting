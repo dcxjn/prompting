{
  "cells": [
    {
      "cell_type": "code",
      "execution_count": null,
      "metadata": {
        "colab": {
          "base_uri": "https://localhost:8080/"
        },
        "id": "dENdfOSxYz7z",
        "outputId": "e61b309a-e2c6-4dec-91d7-cc3e747e4ffb"
      },
      "outputs": [
        {
          "name": "stdout",
          "output_type": "stream",
          "text": [
            "fatal: destination path '/content/prompting' already exists and is not an empty directory.\n"
          ]
        }
      ],
      "source": [
        "!git clone https://github.com/dcxjn/prompting.git /content/prompting"
      ]
    },
    {
      "cell_type": "code",
      "execution_count": null,
      "metadata": {
        "id": "WtLdisLkY0ye"
      },
      "outputs": [],
      "source": [
        "import os\n",
        "os.chdir('/content/prompting')"
      ]
    },
    {
      "cell_type": "code",
      "execution_count": null,
      "metadata": {
        "id": "P8aMfDc7Y0_z"
      },
      "outputs": [],
      "source": [
        "import sys\n",
        "sys.path.append('/content/prompting')"
      ]
    },
    {
      "cell_type": "code",
      "execution_count": null,
      "metadata": {
        "id": "KwF9eXQoYtjC"
      },
      "outputs": [],
      "source": [
        "from transformers import AutoTokenizer, BitsAndBytesConfig\n",
        "from src.llava_prompting.llava.model import LlavaLlamaForCausalLM\n",
        "from src.llava_prompting.llava.utils import disable_torch_init\n",
        "from src.llava_prompting.llava.constants import IMAGE_TOKEN_INDEX, DEFAULT_IMAGE_TOKEN, DEFAULT_IM_START_TOKEN, DEFAULT_IM_END_TOKEN\n",
        "from src.llava_prompting.llava.mm_utils import tokenizer_image_token, KeywordsStoppingCriteria\n",
        "from src.llava_prompting.llava.conversation import conv_templates, SeparatorStyle\n",
        "import torch\n",
        "from io import BytesIO\n",
        "\n",
        "from src.utils.image_util import load_image, resize_image"
      ]
    },
    {
      "cell_type": "code",
      "execution_count": null,
      "metadata": {},
      "outputs": [],
      "source": [
        "# From https://towardsdatascience.com/create-your-vision-chat-assistant-with-llava-610b02c3283e\n",
        "\n",
        "class LLaVAChatBot:\n",
        "    def __init__(self,\n",
        "                 model_path: str = 'liuhaotian/llava-v1.5-7b',\n",
        "                 device_map: str = 'auto',\n",
        "                 load_in_8_bit: bool = True,\n",
        "                 **quant_kwargs) -> None:\n",
        "        self.model = None\n",
        "        self.tokenizer = None\n",
        "        self.image_processor = None\n",
        "        self.conv = None\n",
        "        self.conv_img = None\n",
        "        self.img_tensor = None\n",
        "        self.roles = None\n",
        "        self.stop_key = None\n",
        "        self.load_models(model_path,\n",
        "                         device_map=device_map,\n",
        "                         load_in_8_bit=load_in_8_bit,\n",
        "                         **quant_kwargs)\n",
        "\n",
        "    def load_models(self, model_path: str,\n",
        "                    device_map: str,\n",
        "                    load_in_8_bit: bool,\n",
        "                    **quant_kwargs) -> None:\n",
        "        \"\"\"Load the model, processor and tokenizer.\"\"\"\n",
        "        quant_cfg = BitsAndBytesConfig(**quant_kwargs)\n",
        "        self.model = LlavaLlamaForCausalLM.from_pretrained(model_path,\n",
        "                                                           low_cpu_mem_usage=True,\n",
        "                                                           device_map=device_map,\n",
        "                                                           load_in_8bit=load_in_8_bit,\n",
        "                                                           quantization_config=quant_cfg)\n",
        "        self.tokenizer = AutoTokenizer.from_pretrained(model_path,\n",
        "                                                       use_fast=False)\n",
        "        vision_tower = self.model.get_vision_tower()\n",
        "        vision_tower.load_model()\n",
        "        vision_tower.to(device='cuda')\n",
        "        self.image_processor = vision_tower.image_processor\n",
        "        disable_torch_init()\n",
        "\n",
        "    def setup_image(self, img_path: str) -> None:\n",
        "        \"\"\"Load and process the image.\"\"\"\n",
        "        if img_path.startswith('http') or img_path.startswith('https'):\n",
        "            response = requests.get(img_path)\n",
        "            self.conv_img = Image.open(BytesIO(response.content)).convert('RGB')\n",
        "        else:\n",
        "            self.conv_img = Image.open(img_path).convert('RGB')\n",
        "        self.img_tensor = self.image_processor.preprocess(self.conv_img,\n",
        "                                                          return_tensors='pt'\n",
        "                                                          )['pixel_values'].half().cuda()\n",
        "\n",
        "    def generate_answer(self, **kwargs) -> str:\n",
        "        \"\"\"Generate an answer from the current conversation.\"\"\"\n",
        "        raw_prompt = self.conv.get_prompt()\n",
        "        input_ids = tokenizer_image_token(raw_prompt,\n",
        "                                          self.tokenizer,\n",
        "                                          IMAGE_TOKEN_INDEX,\n",
        "                                          return_tensors='pt').unsqueeze(0).cuda()\n",
        "        stopping = KeywordsStoppingCriteria([self.stop_key],\n",
        "                                            self.tokenizer,\n",
        "                                            input_ids)\n",
        "        with torch.inference_mode():\n",
        "            output_ids = self.model.generate(input_ids,\n",
        "                                             images=self.img_tensor,\n",
        "                                             stopping_criteria=[stopping],\n",
        "                                             **kwargs)\n",
        "        outputs = self.tokenizer.decode(\n",
        "            output_ids[0, input_ids.shape[1]:]\n",
        "        ).strip()\n",
        "        self.conv.messages[-1][-1] = outputs\n",
        "\n",
        "        return outputs.rsplit('</s>', 1)[0]\n",
        "\n",
        "    def get_conv_text(self) -> str:\n",
        "        \"\"\"Return full conversation text.\"\"\"\n",
        "        return self.conv.get_prompt()\n",
        "\n",
        "    def start_new_chat(self,\n",
        "                       img_path: str,\n",
        "                       prompt: str,\n",
        "                       do_sample=True,\n",
        "                       temperature=0.2,\n",
        "                       max_new_tokens=1024,\n",
        "                       use_cache=True,\n",
        "                       **kwargs) -> str:\n",
        "        \"\"\"Start a new chat with a new image.\"\"\"\n",
        "        conv_mode = \"v1\"\n",
        "        self.setup_image(img_path)\n",
        "        self.conv = conv_templates[conv_mode].copy()\n",
        "        self.roles = self.conv.roles\n",
        "        first_input = (DEFAULT_IM_START_TOKEN + DEFAULT_IMAGE_TOKEN +\n",
        "                       DEFAULT_IM_END_TOKEN + '\\n' + prompt)\n",
        "        self.conv.append_message(self.roles[0], first_input)\n",
        "        self.conv.append_message(self.roles[1], None)\n",
        "        if self.conv.sep_style == SeparatorStyle.TWO:\n",
        "            self.stop_key = self.conv.sep2\n",
        "        else:\n",
        "            self.stop_key = self.conv.sep\n",
        "        answer = self.generate_answer(do_sample=do_sample,\n",
        "                                      temperature=temperature,\n",
        "                                      max_new_tokens=max_new_tokens,\n",
        "                                      use_cache=use_cache,\n",
        "                                      **kwargs)\n",
        "        return answer\n",
        "\n",
        "    def continue_chat(self,\n",
        "                      prompt: str,\n",
        "                      do_sample=True,\n",
        "                      temperature=0.2,\n",
        "                      max_new_tokens=1024,\n",
        "                      use_cache=True,\n",
        "                      **kwargs) -> str:\n",
        "        \"\"\"Continue the existing chat.\"\"\"\n",
        "        if self.conv is None:\n",
        "            raise RuntimeError(\"No existing conversation found. Start a new\"\n",
        "                               \"conversation using the `start_new_chat` method.\")\n",
        "        self.conv.append_message(self.roles[0], prompt)\n",
        "        self.conv.append_message(self.roles[1], None)\n",
        "        answer = self.generate_answer(do_sample=do_sample,\n",
        "                                      temperature=temperature,\n",
        "                                      max_new_tokens=max_new_tokens,\n",
        "                                      use_cache=use_cache,\n",
        "                                      **kwargs)\n",
        "        return answer"
      ]
    },
    {
      "cell_type": "code",
      "execution_count": null,
      "metadata": {},
      "outputs": [],
      "source": [
        "def query(inputs: dict) -> str:\n",
        "    chatbot = LLaVAChatBot(load_in_8bit=True,\n",
        "                           bnb_8bit_compute_dtype=torch.float16,\n",
        "                           bnb_8bit_use_double_quant=True,\n",
        "                           bnb_8bit_quant_type='nf8')\n",
        "    \n",
        "    prompt1 = f\"\"\"\n",
        "    Observe the given image and its details.\n",
        "    Provide a detailed step-by-step guide on how a human would complete the task of: {inputs[\"task\"]}.\n",
        "    Link each instruction to an observation in the image in this format: \"Observation - Instruction\".\n",
        "    \"\"\"\n",
        "    \n",
        "    prompt2 = f\"\"\"\n",
        "    Imagine you are in control of a robotic arm with the following commands: {inputs[\"bot_commands\"]}\n",
        "    Given the human instructions you have generated, provide a guide on how the robot would complete the task.\n",
        "    \"\"\"\n",
        "    \n",
        "    prompt3 = f\"\"\"\n",
        "    By referencing an observation in the image, ensure each instruction is accurate. Do not make assumptions.\n",
        "    Check that each instruction is logical.\n",
        "    \"\"\"\n",
        "\n",
        "    output1 = chatbot.start_new_chat(img_path=inputs[\"image_path\"],\n",
        "                                     prompt=prompt1)\n",
        "    \n",
        "    print(\"\\n=== OUTPUT 1 ===\\n\")\n",
        "    print(output1)\n",
        "\n",
        "    output2 = chatbot.continue_chat(prompt2)\n",
        "\n",
        "    print(\"\\n=== OUTPUT 2 ===\\n\")\n",
        "    print(output2)\n",
        "\n",
        "    output3 = chatbot.continue_chat(prompt3)\n",
        "\n",
        "    return output3"
      ]
    },
    {
      "cell_type": "code",
      "execution_count": null,
      "metadata": {
        "id": "kIXu7ozxYtjE"
      },
      "outputs": [],
      "source": [
        "# Robot commands available\n",
        "bot_commands = \"\"\"\n",
        "    1. move_to(x, y)\n",
        "    2. grab(object)\n",
        "    3. release(object)\n",
        "    4. push(object)\n",
        "    5. pull(object)\n",
        "    6. rotate(angle)\n",
        "\"\"\""
      ]
    },
    {
      "cell_type": "code",
      "execution_count": null,
      "metadata": {
        "id": "8XDkY34AYtjE"
      },
      "outputs": [],
      "source": [
        "# image_path = input(\"Enter the path of the image: \")\n",
        "# image_path = r\"images\\fridge_lefthandle.jpg\"\n",
        "# image_path = r\"images\\housedoor_knob_push.jpg\"\n",
        "# image_path = r\"images\\browndoor_knob_pull.jpg\"\n",
        "# image_path = r\"images\\labdoor_straighthandle_pull.jpg\"\n",
        "image_path = r\"images/bluedoor_knob_push.jpg\"\n",
        "# image_path = r\"images\\whitetable.jpg\""
      ]
    },
    {
      "cell_type": "code",
      "execution_count": null,
      "metadata": {
        "id": "MSJy7iGDYtjE"
      },
      "outputs": [],
      "source": [
        "resize_image(image_path, image_path)\n",
        "image = load_image({\"image_path\": image_path})[\"image\"]"
      ]
    },
    {
      "cell_type": "code",
      "execution_count": null,
      "metadata": {
        "colab": {
          "base_uri": "https://localhost:8080/"
        },
        "id": "tu2VlUFuYtjE",
        "outputId": "0195a045-0767-4e93-91fb-dbd71e86ce93"
      },
      "outputs": [
        {
          "name": "stdout",
          "output_type": "stream",
          "text": [
            "Enter the task to be performed: open the door\n"
          ]
        }
      ],
      "source": [
        "# Define the task to be performed\n",
        "task = input(\"Enter the task to be performed: \")"
      ]
    },
    {
      "cell_type": "code",
      "execution_count": null,
      "metadata": {},
      "outputs": [],
      "source": [
        "result = query(\n",
        "    {\n",
        "        \"image_path\": image_path,\n",
        "        \"task\": task,\n",
        "        \"bot_commands\": bot_commands,\n",
        "    }\n",
        ")"
      ]
    },
    {
      "cell_type": "code",
      "execution_count": null,
      "metadata": {
        "colab": {
          "base_uri": "https://localhost:8080/"
        },
        "id": "aVSX9L20YtjF",
        "outputId": "c0fc450b-51e2-4f29-b26a-ddde2c1be265"
      },
      "outputs": [],
      "source": [
        "print(\"\\n==========\\n\")\n",
        "print(result)"
      ]
    },
    {
      "cell_type": "code",
      "execution_count": 12,
      "metadata": {
        "id": "ivrVYoJjYtjF"
      },
      "outputs": [],
      "source": []
    }
  ],
  "metadata": {
    "accelerator": "GPU",
    "colab": {
      "gpuType": "T4",
      "provenance": []
    },
    "kernelspec": {
      "display_name": "Python 3",
      "name": "python3"
    },
    "language_info": {
      "name": "python"
    },
    "widgets": {
      "application/vnd.jupyter.widget-state+json": {
        "039a7b38c3934422a60fd77cfabaecdd": {
          "model_module": "@jupyter-widgets/controls",
          "model_module_version": "1.5.0",
          "model_name": "HTMLModel",
          "state": {
            "_dom_classes": [],
            "_model_module": "@jupyter-widgets/controls",
            "_model_module_version": "1.5.0",
            "_model_name": "HTMLModel",
            "_view_count": null,
            "_view_module": "@jupyter-widgets/controls",
            "_view_module_version": "1.5.0",
            "_view_name": "HTMLView",
            "description": "",
            "description_tooltip": null,
            "layout": "IPY_MODEL_cd35d1337e2a46de810e7ceba824c47e",
            "placeholder": "​",
            "style": "IPY_MODEL_27b31a0db7d44351be421b8caf4c8d3c",
            "value": " 3/3 [00:58&lt;00:00, 19.18s/it]"
          }
        },
        "27b31a0db7d44351be421b8caf4c8d3c": {
          "model_module": "@jupyter-widgets/controls",
          "model_module_version": "1.5.0",
          "model_name": "DescriptionStyleModel",
          "state": {
            "_model_module": "@jupyter-widgets/controls",
            "_model_module_version": "1.5.0",
            "_model_name": "DescriptionStyleModel",
            "_view_count": null,
            "_view_module": "@jupyter-widgets/base",
            "_view_module_version": "1.2.0",
            "_view_name": "StyleView",
            "description_width": ""
          }
        },
        "2dbd5953c42646a8af33deeb68e16c1f": {
          "model_module": "@jupyter-widgets/controls",
          "model_module_version": "1.5.0",
          "model_name": "HTMLModel",
          "state": {
            "_dom_classes": [],
            "_model_module": "@jupyter-widgets/controls",
            "_model_module_version": "1.5.0",
            "_model_name": "HTMLModel",
            "_view_count": null,
            "_view_module": "@jupyter-widgets/controls",
            "_view_module_version": "1.5.0",
            "_view_name": "HTMLView",
            "description": "",
            "description_tooltip": null,
            "layout": "IPY_MODEL_423dfcf8b1804939a495483832e22d54",
            "placeholder": "​",
            "style": "IPY_MODEL_7d3bc2d8374a4dc59fe075a28b2f0c50",
            "value": "Loading checkpoint shards: 100%"
          }
        },
        "3c8d18d88e644e6195a2c49c8f392dbf": {
          "model_module": "@jupyter-widgets/base",
          "model_module_version": "1.2.0",
          "model_name": "LayoutModel",
          "state": {
            "_model_module": "@jupyter-widgets/base",
            "_model_module_version": "1.2.0",
            "_model_name": "LayoutModel",
            "_view_count": null,
            "_view_module": "@jupyter-widgets/base",
            "_view_module_version": "1.2.0",
            "_view_name": "LayoutView",
            "align_content": null,
            "align_items": null,
            "align_self": null,
            "border": null,
            "bottom": null,
            "display": null,
            "flex": null,
            "flex_flow": null,
            "grid_area": null,
            "grid_auto_columns": null,
            "grid_auto_flow": null,
            "grid_auto_rows": null,
            "grid_column": null,
            "grid_gap": null,
            "grid_row": null,
            "grid_template_areas": null,
            "grid_template_columns": null,
            "grid_template_rows": null,
            "height": null,
            "justify_content": null,
            "justify_items": null,
            "left": null,
            "margin": null,
            "max_height": null,
            "max_width": null,
            "min_height": null,
            "min_width": null,
            "object_fit": null,
            "object_position": null,
            "order": null,
            "overflow": null,
            "overflow_x": null,
            "overflow_y": null,
            "padding": null,
            "right": null,
            "top": null,
            "visibility": null,
            "width": null
          }
        },
        "423dfcf8b1804939a495483832e22d54": {
          "model_module": "@jupyter-widgets/base",
          "model_module_version": "1.2.0",
          "model_name": "LayoutModel",
          "state": {
            "_model_module": "@jupyter-widgets/base",
            "_model_module_version": "1.2.0",
            "_model_name": "LayoutModel",
            "_view_count": null,
            "_view_module": "@jupyter-widgets/base",
            "_view_module_version": "1.2.0",
            "_view_name": "LayoutView",
            "align_content": null,
            "align_items": null,
            "align_self": null,
            "border": null,
            "bottom": null,
            "display": null,
            "flex": null,
            "flex_flow": null,
            "grid_area": null,
            "grid_auto_columns": null,
            "grid_auto_flow": null,
            "grid_auto_rows": null,
            "grid_column": null,
            "grid_gap": null,
            "grid_row": null,
            "grid_template_areas": null,
            "grid_template_columns": null,
            "grid_template_rows": null,
            "height": null,
            "justify_content": null,
            "justify_items": null,
            "left": null,
            "margin": null,
            "max_height": null,
            "max_width": null,
            "min_height": null,
            "min_width": null,
            "object_fit": null,
            "object_position": null,
            "order": null,
            "overflow": null,
            "overflow_x": null,
            "overflow_y": null,
            "padding": null,
            "right": null,
            "top": null,
            "visibility": null,
            "width": null
          }
        },
        "49e2b5c71ae9441f9b1f165618465c2c": {
          "model_module": "@jupyter-widgets/controls",
          "model_module_version": "1.5.0",
          "model_name": "HBoxModel",
          "state": {
            "_dom_classes": [],
            "_model_module": "@jupyter-widgets/controls",
            "_model_module_version": "1.5.0",
            "_model_name": "HBoxModel",
            "_view_count": null,
            "_view_module": "@jupyter-widgets/controls",
            "_view_module_version": "1.5.0",
            "_view_name": "HBoxView",
            "box_style": "",
            "children": [
              "IPY_MODEL_2dbd5953c42646a8af33deeb68e16c1f",
              "IPY_MODEL_5b7a2dee2dac4d1fb2044e577af0e915",
              "IPY_MODEL_039a7b38c3934422a60fd77cfabaecdd"
            ],
            "layout": "IPY_MODEL_be0064f4da524435a8f81a1247f3e8f8"
          }
        },
        "58b20e22b12846388636c6d253910f58": {
          "model_module": "@jupyter-widgets/controls",
          "model_module_version": "1.5.0",
          "model_name": "ProgressStyleModel",
          "state": {
            "_model_module": "@jupyter-widgets/controls",
            "_model_module_version": "1.5.0",
            "_model_name": "ProgressStyleModel",
            "_view_count": null,
            "_view_module": "@jupyter-widgets/base",
            "_view_module_version": "1.2.0",
            "_view_name": "StyleView",
            "bar_color": null,
            "description_width": ""
          }
        },
        "5b7a2dee2dac4d1fb2044e577af0e915": {
          "model_module": "@jupyter-widgets/controls",
          "model_module_version": "1.5.0",
          "model_name": "FloatProgressModel",
          "state": {
            "_dom_classes": [],
            "_model_module": "@jupyter-widgets/controls",
            "_model_module_version": "1.5.0",
            "_model_name": "FloatProgressModel",
            "_view_count": null,
            "_view_module": "@jupyter-widgets/controls",
            "_view_module_version": "1.5.0",
            "_view_name": "ProgressView",
            "bar_style": "success",
            "description": "",
            "description_tooltip": null,
            "layout": "IPY_MODEL_3c8d18d88e644e6195a2c49c8f392dbf",
            "max": 3,
            "min": 0,
            "orientation": "horizontal",
            "style": "IPY_MODEL_58b20e22b12846388636c6d253910f58",
            "value": 3
          }
        },
        "7d3bc2d8374a4dc59fe075a28b2f0c50": {
          "model_module": "@jupyter-widgets/controls",
          "model_module_version": "1.5.0",
          "model_name": "DescriptionStyleModel",
          "state": {
            "_model_module": "@jupyter-widgets/controls",
            "_model_module_version": "1.5.0",
            "_model_name": "DescriptionStyleModel",
            "_view_count": null,
            "_view_module": "@jupyter-widgets/base",
            "_view_module_version": "1.2.0",
            "_view_name": "StyleView",
            "description_width": ""
          }
        },
        "be0064f4da524435a8f81a1247f3e8f8": {
          "model_module": "@jupyter-widgets/base",
          "model_module_version": "1.2.0",
          "model_name": "LayoutModel",
          "state": {
            "_model_module": "@jupyter-widgets/base",
            "_model_module_version": "1.2.0",
            "_model_name": "LayoutModel",
            "_view_count": null,
            "_view_module": "@jupyter-widgets/base",
            "_view_module_version": "1.2.0",
            "_view_name": "LayoutView",
            "align_content": null,
            "align_items": null,
            "align_self": null,
            "border": null,
            "bottom": null,
            "display": null,
            "flex": null,
            "flex_flow": null,
            "grid_area": null,
            "grid_auto_columns": null,
            "grid_auto_flow": null,
            "grid_auto_rows": null,
            "grid_column": null,
            "grid_gap": null,
            "grid_row": null,
            "grid_template_areas": null,
            "grid_template_columns": null,
            "grid_template_rows": null,
            "height": null,
            "justify_content": null,
            "justify_items": null,
            "left": null,
            "margin": null,
            "max_height": null,
            "max_width": null,
            "min_height": null,
            "min_width": null,
            "object_fit": null,
            "object_position": null,
            "order": null,
            "overflow": null,
            "overflow_x": null,
            "overflow_y": null,
            "padding": null,
            "right": null,
            "top": null,
            "visibility": null,
            "width": null
          }
        },
        "cd35d1337e2a46de810e7ceba824c47e": {
          "model_module": "@jupyter-widgets/base",
          "model_module_version": "1.2.0",
          "model_name": "LayoutModel",
          "state": {
            "_model_module": "@jupyter-widgets/base",
            "_model_module_version": "1.2.0",
            "_model_name": "LayoutModel",
            "_view_count": null,
            "_view_module": "@jupyter-widgets/base",
            "_view_module_version": "1.2.0",
            "_view_name": "LayoutView",
            "align_content": null,
            "align_items": null,
            "align_self": null,
            "border": null,
            "bottom": null,
            "display": null,
            "flex": null,
            "flex_flow": null,
            "grid_area": null,
            "grid_auto_columns": null,
            "grid_auto_flow": null,
            "grid_auto_rows": null,
            "grid_column": null,
            "grid_gap": null,
            "grid_row": null,
            "grid_template_areas": null,
            "grid_template_columns": null,
            "grid_template_rows": null,
            "height": null,
            "justify_content": null,
            "justify_items": null,
            "left": null,
            "margin": null,
            "max_height": null,
            "max_width": null,
            "min_height": null,
            "min_width": null,
            "object_fit": null,
            "object_position": null,
            "order": null,
            "overflow": null,
            "overflow_x": null,
            "overflow_y": null,
            "padding": null,
            "right": null,
            "top": null,
            "visibility": null,
            "width": null
          }
        }
      }
    }
  },
  "nbformat": 4,
  "nbformat_minor": 0
}
