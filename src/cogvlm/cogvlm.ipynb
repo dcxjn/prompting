{
  "cells": [
    {
      "cell_type": "code",
      "execution_count": null,
      "metadata": {
        "colab": {
          "base_uri": "https://localhost:8080/"
        },
        "id": "i0bDBAb1URMA",
        "outputId": "b730656a-2f50-4980-a7bf-2d265f0cfd00"
      },
      "outputs": [],
      "source": [
        "!git clone https://github.com/dcxjn/prompting.git /content/prompting"
      ]
    },
    {
      "cell_type": "code",
      "execution_count": null,
      "metadata": {
        "id": "grzjOlWfURMB"
      },
      "outputs": [],
      "source": [
        "import os\n",
        "os.chdir('/content/prompting')"
      ]
    },
    {
      "cell_type": "code",
      "execution_count": null,
      "metadata": {
        "id": "kGRCdSGrURMB"
      },
      "outputs": [],
      "source": [
        "import sys\n",
        "sys.path.append('/content/prompting')"
      ]
    },
    {
      "cell_type": "code",
      "execution_count": null,
      "metadata": {
        "colab": {
          "base_uri": "https://localhost:8080/"
        },
        "id": "4RUUD4ozURMB",
        "outputId": "fe38bbf7-ee2f-4e49-9679-829b668597d1"
      },
      "outputs": [],
      "source": [
        "!pip install tiktoken\n",
        "!pip install einops\n",
        "!pip install accelerate\n",
        "!pip install xformers\n",
        "!pip install triton\n",
        "!pip install sentencepiece"
      ]
    },
    {
      "cell_type": "code",
      "execution_count": null,
      "metadata": {
        "id": "astFRXL0URMB"
      },
      "outputs": [],
      "source": [
        "from transformers import AutoModelForCausalLM, LlamaTokenizer\n",
        "from accelerate import init_empty_weights, infer_auto_device_map, load_checkpoint_and_dispatch\n",
        "import torch\n",
        "\n",
        "import requests\n",
        "from PIL import Image\n",
        "\n",
        "from src.utils.image_util import load_image, resize_image"
      ]
    },
    {
      "cell_type": "code",
      "execution_count": null,
      "metadata": {
        "id": "YMuDpbNEURMB"
      },
      "outputs": [],
      "source": [
        "def query(inputs: dict) -> dict:\n",
        "\n",
        "    # Set tokenizer\n",
        "    tokenizer = LlamaTokenizer.from_pretrained('lmsys/vicuna-7b-v1.5')\n",
        "\n",
        "    # Load model\n",
        "    model = AutoModelForCausalLM.from_pretrained(\n",
        "        'THUDM/cogvlm-chat-hf',\n",
        "        do_sample=False,\n",
        "        torch_dtype=torch.bfloat16,\n",
        "        low_cpu_mem_usage=True,\n",
        "        trust_remote_code=True\n",
        "    ).to('cuda').eval()\n",
        "\n",
        "    # Load image\n",
        "    image = Image.open(inputs['image_path']).convert('RGB')\n",
        "\n",
        "    history = []\n",
        "\n",
        "    prompt1 = f\"\"\"\n",
        "    Observe the given image and its details.\n",
        "    Provide a detailed step-by-step guide on how a human would complete the task of: {inputs[\"task\"]}.\n",
        "    Link each instruction to an observation in the image in this format: Observation - Instruction.\n",
        "    \"\"\"\n",
        "\n",
        "    input1 = model.build_conversation_input_ids(tokenizer, query=prompt1, history=history, images=[image])\n",
        "    input1 = {\n",
        "        'input_ids': input1['input_ids'].unsqueeze(0).to('cuda'),\n",
        "        'token_type_ids': input1['token_type_ids'].unsqueeze(0).to('cuda'),\n",
        "        'attention_mask': input1['attention_mask'].unsqueeze(0).to('cuda'),\n",
        "        'images': [[input1['images'][0].to('cuda').to(torch.bfloat16)]],\n",
        "    }\n",
        "    gen_kwargs = {\"max_length\": 2048, \"do_sample\": False}\n",
        "\n",
        "    with torch.no_grad():\n",
        "        outputs = model.generate(**input1, **gen_kwargs)\n",
        "        outputs = outputs[:, input1['input_ids'].shape[1]:]\n",
        "\n",
        "    output1 = tokenizer.decode(outputs[0])\n",
        "    print(\"\\n=== OUTPUT 1 ===\\n\") # for debugging\n",
        "    print(output1)\n",
        "\n",
        "    prompt2 = f\"\"\"\n",
        "    Imagine you are in control of a robotic arm with the following commands: {inputs[\"bot_commands\"]}\n",
        "    Given the human instructions you have generated, provide a guide on how the robot would complete the task.\n",
        "    \"\"\"\n",
        "\n",
        "    input2 = model.build_conversation_input_ids(tokenizer, query=prompt2, history=history, images=None)\n",
        "    input2 = {\n",
        "        'input_ids': input2['input_ids'].unsqueeze(0).to('cuda'),\n",
        "        'token_type_ids': input2['token_type_ids'].unsqueeze(0).to('cuda'),\n",
        "        'attention_mask': input2['attention_mask'].unsqueeze(0).to('cuda'),\n",
        "        'images': None,\n",
        "    }\n",
        "    gen_kwargs = {\"max_length\": 2048, \"do_sample\": False}\n",
        "\n",
        "    with torch.no_grad():\n",
        "        outputs = model.generate(**inputs, **gen_kwargs)\n",
        "        outputs = outputs[:, inputs['input_ids'].shape[1]:]\n",
        "\n",
        "    output2 = tokenizer.decode(outputs[0])\n",
        "    print(\"\\n=== OUTPUT 2 ===\\n\") # for debugging\n",
        "    print(output2)\n",
        "\n",
        "    prompt3 = f\"\"\"\n",
        "    By referencing an observation in the image, ensure each instruction is accurate. Do not make assumptions.\n",
        "    Check that each instruction is logical.\n",
        "    \"\"\"\n",
        "\n",
        "    input3 = model.build_conversation_input_ids(tokenizer, query=prompt3, history=history, images=None)\n",
        "    input3 = {\n",
        "        'input_ids': input3['input_ids'].unsqueeze(0).to('cuda'),\n",
        "        'token_type_ids': input3['token_type_ids'].unsqueeze(0).to('cuda'),\n",
        "        'attention_mask': input3['attention_mask'].unsqueeze(0).to('cuda'),\n",
        "        'images': None,\n",
        "    }\n",
        "    gen_kwargs = {\"max_length\": 2048, \"do_sample\": False}\n",
        "\n",
        "    with torch.no_grad():\n",
        "        outputs = model.generate(**input3, **gen_kwargs)\n",
        "        outputs = outputs[:, input3['input_ids'].shape[1]:]\n",
        "\n",
        "    output3 = tokenizer.decode(outputs[0])\n",
        "\n",
        "    return {\"bot_inst\": output3}\n"
      ]
    },
    {
      "cell_type": "code",
      "execution_count": null,
      "metadata": {
        "id": "PDIUuFG_URMC"
      },
      "outputs": [],
      "source": [
        "# Robot commands available\n",
        "bot_commands = \"\"\"\n",
        "1. move_to(x, y)\n",
        "2. grab(object)\n",
        "3. release(object)\n",
        "4. push(object)\n",
        "5. pull(object)\n",
        "6. rotate(angle)\n",
        "\"\"\""
      ]
    },
    {
      "cell_type": "code",
      "execution_count": null,
      "metadata": {
        "id": "zAqo9DXYURMC"
      },
      "outputs": [],
      "source": [
        "# image_path = input(\"Enter the path of the image: \")\n",
        "# image_path = r\"images/fridge_lefthandle.jpg\"\n",
        "# image_path = r\"images/housedoor_knob_push.jpg\"\n",
        "# image_path = r\"images/browndoor_knob_pull.jpg\"\n",
        "# image_path = r\"images/labdoor_straighthandle_pull.jpg\"\n",
        "image_path = r\"images/bluedoor_knob_push.jpg\"\n",
        "# image_path = r\"images/whitetable.jpg\""
      ]
    },
    {
      "cell_type": "code",
      "execution_count": null,
      "metadata": {
        "id": "nQEG_Be3URMC"
      },
      "outputs": [],
      "source": [
        "resize_image(image_path, image_path)"
      ]
    },
    {
      "cell_type": "code",
      "execution_count": null,
      "metadata": {
        "colab": {
          "base_uri": "https://localhost:8080/"
        },
        "id": "Mn5YlmDmURMC",
        "outputId": "923fdc17-de0c-4f26-e929-d423a6b733d9"
      },
      "outputs": [],
      "source": [
        "# Define the task to be performed\n",
        "task = input(\"Enter the task to be performed: \")"
      ]
    },
    {
      "cell_type": "code",
      "execution_count": null,
      "metadata": {
        "colab": {
          "base_uri": "https://localhost:8080/",
          "height": 388,
          "referenced_widgets": [
            "489f606933ff478a881809082f503ec7",
            "168be55a14204c9ea650eb651905ee3e",
            "0e1999c940364ae387433171ffd73eed",
            "39309c215aff447b9c42e1d33524297e",
            "9a75377fca57434eb90c26dffc467332",
            "23306955d3a34ad78b361160d8dc81ce",
            "02261805ca674254ae61307ecfcc3fcc",
            "1bb1f17e4da94013852e580991a36af3",
            "a8664d1fba2a4c8badbd63fad4b1c60a",
            "59856258b84c4fc1bf17f948bb0b4ad4",
            "99ddf0058d1746b58c5ec97cbb8bd687"
          ]
        },
        "id": "CKg2YJsQURMC",
        "outputId": "14063933-adae-424c-878a-509590571acd"
      },
      "outputs": [],
      "source": [
        "result = query(\n",
        "    {\n",
        "        \"image_path\": image_path,\n",
        "        \"task\": task,\n",
        "        \"bot_commands\": bot_commands,\n",
        "    }\n",
        ")"
      ]
    },
    {
      "cell_type": "code",
      "execution_count": null,
      "metadata": {
        "id": "VRNEKc6SURMC"
      },
      "outputs": [],
      "source": [
        "print(\"\\n==========\\n\")\n",
        "print(result[\"bot_inst\"])"
      ]
    }
  ],
  "metadata": {
    "accelerator": "TPU",
    "colab": {
      "gpuType": "V28",
      "provenance": []
    },
    "kernelspec": {
      "display_name": "Python 3",
      "name": "python3"
    },
    "language_info": {
      "name": "python"
    },
    "widgets": {
      "application/vnd.jupyter.widget-state+json": {
        "02261805ca674254ae61307ecfcc3fcc": {
          "model_module": "@jupyter-widgets/controls",
          "model_module_version": "1.5.0",
          "model_name": "DescriptionStyleModel",
          "state": {
            "_model_module": "@jupyter-widgets/controls",
            "_model_module_version": "1.5.0",
            "_model_name": "DescriptionStyleModel",
            "_view_count": null,
            "_view_module": "@jupyter-widgets/base",
            "_view_module_version": "1.2.0",
            "_view_name": "StyleView",
            "description_width": ""
          }
        },
        "0e1999c940364ae387433171ffd73eed": {
          "model_module": "@jupyter-widgets/controls",
          "model_module_version": "1.5.0",
          "model_name": "FloatProgressModel",
          "state": {
            "_dom_classes": [],
            "_model_module": "@jupyter-widgets/controls",
            "_model_module_version": "1.5.0",
            "_model_name": "FloatProgressModel",
            "_view_count": null,
            "_view_module": "@jupyter-widgets/controls",
            "_view_module_version": "1.5.0",
            "_view_name": "ProgressView",
            "bar_style": "success",
            "description": "",
            "description_tooltip": null,
            "layout": "IPY_MODEL_1bb1f17e4da94013852e580991a36af3",
            "max": 8,
            "min": 0,
            "orientation": "horizontal",
            "style": "IPY_MODEL_a8664d1fba2a4c8badbd63fad4b1c60a",
            "value": 8
          }
        },
        "168be55a14204c9ea650eb651905ee3e": {
          "model_module": "@jupyter-widgets/controls",
          "model_module_version": "1.5.0",
          "model_name": "HTMLModel",
          "state": {
            "_dom_classes": [],
            "_model_module": "@jupyter-widgets/controls",
            "_model_module_version": "1.5.0",
            "_model_name": "HTMLModel",
            "_view_count": null,
            "_view_module": "@jupyter-widgets/controls",
            "_view_module_version": "1.5.0",
            "_view_name": "HTMLView",
            "description": "",
            "description_tooltip": null,
            "layout": "IPY_MODEL_23306955d3a34ad78b361160d8dc81ce",
            "placeholder": "​",
            "style": "IPY_MODEL_02261805ca674254ae61307ecfcc3fcc",
            "value": "Loading checkpoint shards: 100%"
          }
        },
        "1bb1f17e4da94013852e580991a36af3": {
          "model_module": "@jupyter-widgets/base",
          "model_module_version": "1.2.0",
          "model_name": "LayoutModel",
          "state": {
            "_model_module": "@jupyter-widgets/base",
            "_model_module_version": "1.2.0",
            "_model_name": "LayoutModel",
            "_view_count": null,
            "_view_module": "@jupyter-widgets/base",
            "_view_module_version": "1.2.0",
            "_view_name": "LayoutView",
            "align_content": null,
            "align_items": null,
            "align_self": null,
            "border": null,
            "bottom": null,
            "display": null,
            "flex": null,
            "flex_flow": null,
            "grid_area": null,
            "grid_auto_columns": null,
            "grid_auto_flow": null,
            "grid_auto_rows": null,
            "grid_column": null,
            "grid_gap": null,
            "grid_row": null,
            "grid_template_areas": null,
            "grid_template_columns": null,
            "grid_template_rows": null,
            "height": null,
            "justify_content": null,
            "justify_items": null,
            "left": null,
            "margin": null,
            "max_height": null,
            "max_width": null,
            "min_height": null,
            "min_width": null,
            "object_fit": null,
            "object_position": null,
            "order": null,
            "overflow": null,
            "overflow_x": null,
            "overflow_y": null,
            "padding": null,
            "right": null,
            "top": null,
            "visibility": null,
            "width": null
          }
        },
        "23306955d3a34ad78b361160d8dc81ce": {
          "model_module": "@jupyter-widgets/base",
          "model_module_version": "1.2.0",
          "model_name": "LayoutModel",
          "state": {
            "_model_module": "@jupyter-widgets/base",
            "_model_module_version": "1.2.0",
            "_model_name": "LayoutModel",
            "_view_count": null,
            "_view_module": "@jupyter-widgets/base",
            "_view_module_version": "1.2.0",
            "_view_name": "LayoutView",
            "align_content": null,
            "align_items": null,
            "align_self": null,
            "border": null,
            "bottom": null,
            "display": null,
            "flex": null,
            "flex_flow": null,
            "grid_area": null,
            "grid_auto_columns": null,
            "grid_auto_flow": null,
            "grid_auto_rows": null,
            "grid_column": null,
            "grid_gap": null,
            "grid_row": null,
            "grid_template_areas": null,
            "grid_template_columns": null,
            "grid_template_rows": null,
            "height": null,
            "justify_content": null,
            "justify_items": null,
            "left": null,
            "margin": null,
            "max_height": null,
            "max_width": null,
            "min_height": null,
            "min_width": null,
            "object_fit": null,
            "object_position": null,
            "order": null,
            "overflow": null,
            "overflow_x": null,
            "overflow_y": null,
            "padding": null,
            "right": null,
            "top": null,
            "visibility": null,
            "width": null
          }
        },
        "39309c215aff447b9c42e1d33524297e": {
          "model_module": "@jupyter-widgets/controls",
          "model_module_version": "1.5.0",
          "model_name": "HTMLModel",
          "state": {
            "_dom_classes": [],
            "_model_module": "@jupyter-widgets/controls",
            "_model_module_version": "1.5.0",
            "_model_name": "HTMLModel",
            "_view_count": null,
            "_view_module": "@jupyter-widgets/controls",
            "_view_module_version": "1.5.0",
            "_view_name": "HTMLView",
            "description": "",
            "description_tooltip": null,
            "layout": "IPY_MODEL_59856258b84c4fc1bf17f948bb0b4ad4",
            "placeholder": "​",
            "style": "IPY_MODEL_99ddf0058d1746b58c5ec97cbb8bd687",
            "value": " 8/8 [00:01&lt;00:00,  4.50it/s]"
          }
        },
        "489f606933ff478a881809082f503ec7": {
          "model_module": "@jupyter-widgets/controls",
          "model_module_version": "1.5.0",
          "model_name": "HBoxModel",
          "state": {
            "_dom_classes": [],
            "_model_module": "@jupyter-widgets/controls",
            "_model_module_version": "1.5.0",
            "_model_name": "HBoxModel",
            "_view_count": null,
            "_view_module": "@jupyter-widgets/controls",
            "_view_module_version": "1.5.0",
            "_view_name": "HBoxView",
            "box_style": "",
            "children": [
              "IPY_MODEL_168be55a14204c9ea650eb651905ee3e",
              "IPY_MODEL_0e1999c940364ae387433171ffd73eed",
              "IPY_MODEL_39309c215aff447b9c42e1d33524297e"
            ],
            "layout": "IPY_MODEL_9a75377fca57434eb90c26dffc467332"
          }
        },
        "59856258b84c4fc1bf17f948bb0b4ad4": {
          "model_module": "@jupyter-widgets/base",
          "model_module_version": "1.2.0",
          "model_name": "LayoutModel",
          "state": {
            "_model_module": "@jupyter-widgets/base",
            "_model_module_version": "1.2.0",
            "_model_name": "LayoutModel",
            "_view_count": null,
            "_view_module": "@jupyter-widgets/base",
            "_view_module_version": "1.2.0",
            "_view_name": "LayoutView",
            "align_content": null,
            "align_items": null,
            "align_self": null,
            "border": null,
            "bottom": null,
            "display": null,
            "flex": null,
            "flex_flow": null,
            "grid_area": null,
            "grid_auto_columns": null,
            "grid_auto_flow": null,
            "grid_auto_rows": null,
            "grid_column": null,
            "grid_gap": null,
            "grid_row": null,
            "grid_template_areas": null,
            "grid_template_columns": null,
            "grid_template_rows": null,
            "height": null,
            "justify_content": null,
            "justify_items": null,
            "left": null,
            "margin": null,
            "max_height": null,
            "max_width": null,
            "min_height": null,
            "min_width": null,
            "object_fit": null,
            "object_position": null,
            "order": null,
            "overflow": null,
            "overflow_x": null,
            "overflow_y": null,
            "padding": null,
            "right": null,
            "top": null,
            "visibility": null,
            "width": null
          }
        },
        "99ddf0058d1746b58c5ec97cbb8bd687": {
          "model_module": "@jupyter-widgets/controls",
          "model_module_version": "1.5.0",
          "model_name": "DescriptionStyleModel",
          "state": {
            "_model_module": "@jupyter-widgets/controls",
            "_model_module_version": "1.5.0",
            "_model_name": "DescriptionStyleModel",
            "_view_count": null,
            "_view_module": "@jupyter-widgets/base",
            "_view_module_version": "1.2.0",
            "_view_name": "StyleView",
            "description_width": ""
          }
        },
        "9a75377fca57434eb90c26dffc467332": {
          "model_module": "@jupyter-widgets/base",
          "model_module_version": "1.2.0",
          "model_name": "LayoutModel",
          "state": {
            "_model_module": "@jupyter-widgets/base",
            "_model_module_version": "1.2.0",
            "_model_name": "LayoutModel",
            "_view_count": null,
            "_view_module": "@jupyter-widgets/base",
            "_view_module_version": "1.2.0",
            "_view_name": "LayoutView",
            "align_content": null,
            "align_items": null,
            "align_self": null,
            "border": null,
            "bottom": null,
            "display": null,
            "flex": null,
            "flex_flow": null,
            "grid_area": null,
            "grid_auto_columns": null,
            "grid_auto_flow": null,
            "grid_auto_rows": null,
            "grid_column": null,
            "grid_gap": null,
            "grid_row": null,
            "grid_template_areas": null,
            "grid_template_columns": null,
            "grid_template_rows": null,
            "height": null,
            "justify_content": null,
            "justify_items": null,
            "left": null,
            "margin": null,
            "max_height": null,
            "max_width": null,
            "min_height": null,
            "min_width": null,
            "object_fit": null,
            "object_position": null,
            "order": null,
            "overflow": null,
            "overflow_x": null,
            "overflow_y": null,
            "padding": null,
            "right": null,
            "top": null,
            "visibility": null,
            "width": null
          }
        },
        "a8664d1fba2a4c8badbd63fad4b1c60a": {
          "model_module": "@jupyter-widgets/controls",
          "model_module_version": "1.5.0",
          "model_name": "ProgressStyleModel",
          "state": {
            "_model_module": "@jupyter-widgets/controls",
            "_model_module_version": "1.5.0",
            "_model_name": "ProgressStyleModel",
            "_view_count": null,
            "_view_module": "@jupyter-widgets/base",
            "_view_module_version": "1.2.0",
            "_view_name": "StyleView",
            "bar_color": null,
            "description_width": ""
          }
        }
      }
    }
  },
  "nbformat": 4,
  "nbformat_minor": 0
}
